{
 "cells": [
  {
   "cell_type": "markdown",
   "metadata": {},
   "source": [
    "### 소개\n",
    "이 노트북은 MovieLens 1M 데이터셋을 분석하여 영화제작사의 CRM 전략을 지원합니다. 사용자 인구통계(성별, 연령대, 직업군), 선호 장르, 활동 수준(액티브 vs. 비활동적 사용자)을 분석하여 타겟 마케팅과 콘텐츠 전략을 제안합니다."
   ]
  },
  {
   "cell_type": "markdown",
   "metadata": {},
   "source": [
    "### 환경 정보\n",
    "\n",
    "제출 가이드라인에 따라 실행 환경 정보를 명시합니다:\n",
    "\n",
    "환경 정보:\n",
    "- **Python 버전**: 3.9.6 (default, Apr 30 2025, 02:07:17) \n",
    "[Clang 17.0.0 (clang-1700.0.13.5)]\n",
    "- **Pandas 버전**: 2.2.3\n",
    "- **NumPy 버전**: 1.26.4\n",
    "- **Matplotlib 버전**: 3.9.4\n",
    "- **Seaborn 버전**: 0.13.2"
   ]
  },
  {
   "cell_type": "markdown",
   "metadata": {},
   "source": [
    "### 1단계: 라이브러리 임포트 및 데이터 로드\n",
    "필요한 Python 라이브러리(pandas, numpy, matplotlib, seaborn)를 임포트하고, MovieLens 1M 데이터셋 파일(`ratings.dat`, `users.dat`, `movies.dat`)을 로드합니다. 이 파일들은 사용자 평점, 인구통계 정보, 영화 정보를 포함합니다. 코드에는 명확한 주석을 추가했으며, 데이터 로드 확인을 위해 기본 정보를 출력합니다."
   ]
  },
  {
   "cell_type": "code",
   "execution_count": null,
   "metadata": {},
   "outputs": [],
   "source": [
    "# 필요한 라이브러리 임포트\n",
    "import pandas as pd\n",
    "import numpy as np\n",
    "import matplotlib.pyplot as plt\n",
    "import seaborn as sns\n",
    "from collections import defaultdict\n",
    "import sys\n",
    "import matplotlib.font_manager as fm\n",
    "\n",
    "# 한국어 폰트 설정 (시스템에 따라 폰트 이름 조정 필요)\n",
    "plt.rcParams['font.family'] = 'AppleGothic'  # Mac의 경우\n",
    "# Windows의 경우: plt.rcParams['font.family'] = 'Malgun Gothic'\n",
    "plt.rcParams['axes.unicode_minus'] = False  # 마이너스 기호 깨짐 방지\n",
    "\n",
    "# MovieLens 1M 데이터셋 파일 로드\n",
    "ratings = pd.read_csv('ratings.dat', sep='::', engine='python', \n",
    "                      names=['UserID', 'MovieID', 'Rating', 'Timestamp'], encoding='latin-1')\n",
    "users = pd.read_csv('users.dat', sep='::', engine='python', \n",
    "                    names=['UserID', 'Gender', 'Age', 'Occupation', 'Zip-code'], encoding='latin-1')\n",
    "movies = pd.read_csv('movies.dat', sep='::', engine='python', \n",
    "                     names=['MovieID', 'Title', 'Genres'], encoding='latin-1')\n",
    "\n",
    "# 데이터셋 기본 정보 출력\n",
    "print(\"평점 데이터프레임 정보:\")\n",
    "print(ratings.info())\n",
    "print(\"\\n사용자 데이터프레임 정보:\")\n",
    "print(users.info())\n",
    "print(\"\\n영화 데이터프레임 정보:\")\n",
    "print(movies.info())"
   ]
  },
  {
   "cell_type": "markdown",
   "metadata": {},
   "source": [
    "### 2단계: 데이터 전처리\n",
    "분석을 위해 데이터를 전처리합니다. 연령대와 직업 코드를 의미 있는 레이블로 매핑하고, 영화 장르를 리스트로 분리하여 개별 장르 분석이 가능하도록 합니다. 평점, 사용자, 영화 데이터를 병합하여 분석용 데이터프레임을 생성합니다. 이 과정은 인구통계 및 장르 기반 분석을 위한 준비 단계입니다."
   ]
  },
  {
   "cell_type": "code",
   "execution_count": null,
   "metadata": {},
   "outputs": [],
   "source": [
    "# 연령대 코드 매핑\n",
    "age_map = {1: '18세 미만', 18: '18-24세', 25: '25-34세', 35: '35-44세', \n",
    "           45: '45-49세', 50: '50-55세', 56: '56세 이상'}\n",
    "users['Age'] = users['Age'].map(age_map)\n",
    "\n",
    "# 직업 코드 매핑\n",
    "occupation_map = {0: '기타/미지정', 1: '학계/교육자', 2: '예술가', 3: '사무/행정', \n",
    "                  4: '대학원생', 5: '고객 서비스', 6: '의사/의료', 7: '경영/관리', \n",
    "                  8: '농업', 9: '주부', 10: 'K-12 학생', 11: '변호사', 12: '프로그래머', \n",
    "                  13: '은퇴', 14: '판매/마케팅', 15: '과학자', 16: '자영업', 17: '기술자/엔지니어', \n",
    "                  18: '장인/기술자', 19: '실업자', 20: '작가'}\n",
    "users['Occupation'] = users['Occupation'].map(occupation_map)\n",
    "\n",
    "# 장르를 리스트로 분리\n",
    "movies['Genres'] = movies['Genres'].str.split('|')\n",
    "\n",
    "# 장르를 개별 행으로 확장\n",
    "movies_exploded = movies.explode('Genres')\n",
    "\n",
    "# 평점, 사용자, 영화 데이터를 병합\n",
    "merged_data = ratings.merge(users, on='UserID').merge(movies_exploded, on='MovieID')"
   ]
  },
  {
   "cell_type": "markdown",
   "metadata": {},
   "source": [
    "## 3단계: 인구통계 분석 (성별, 연령대, 직업군)\n",
    "성별, 연령대, 직업군별 평점 패턴을 분석합니다:\n",
    "- 성별과 연령대별 평균 평점을 히트맵으로 시각화.\n",
    "- 직업군별 평점 분포를 박스플롯으로 표시.  \n",
    "이 분석은 CRM 타겟팅을 위한 인구통계적 인사이트를 제공합니다."
   ]
  },
  {
   "cell_type": "code",
   "execution_count": null,
   "metadata": {},
   "outputs": [],
   "source": [
    "# 성별 및 연령대별 평균 평점 계산\n",
    "group_stats = merged_data.groupby(['Gender', 'Age'])['Rating'].agg(['mean', 'count']).reset_index()\n",
    "pivot_table = group_stats.pivot(index='Age', columns='Gender', values='mean')\n",
    "\n",
    "# 히트맵으로 평균 평점 시각화\n",
    "plt.figure(figsize=(10, 6))\n",
    "sns.heatmap(pivot_table, annot=True, cmap='YlGnBu', fmt='.2f')\n",
    "plt.title('성별 및 연령대별 평균 평점')\n",
    "plt.xlabel('성별')\n",
    "plt.ylabel('연령대')\n",
    "plt.show()\n",
    "\n",
    "# 직업군별 평점 분포 시각화\n",
    "plt.figure(figsize=(12, 6))\n",
    "sns.boxplot(x='Occupation', y='Rating', data=merged_data)\n",
    "plt.xticks(rotation=45)\n",
    "plt.title('직업군별 평점 분포')\n",
    "plt.xlabel('직업군')\n",
    "plt.ylabel('평점')\n",
    "plt.show()\n",
    "\n",
    "# 그룹 통계 출력\n",
    "print(\"성별 및 연령대별 평균 평점 및 평점 수:\")\n",
    "display(group_stats)  # Jupyter 환경에서 테이블 형식으로 표시"
   ]
  },
  {
   "cell_type": "markdown",
   "metadata": {},
   "source": [
    "### 4단계: 선호 장르 분석\n",
    "연령대별 장르 선호도를 분석합니다:\n",
    "- 연령대와 장르별 평균 평점을 계산.\n",
    "- 각 연령대에서 상위 5개 장르를 선정하여 막대 그래프로 시각화.  \n",
    "이 분석은 특정 연령대에 맞춘 콘텐츠 추천과 마케팅 전략을 지원합니다."
   ]
  },
  {
   "cell_type": "code",
   "execution_count": null,
   "metadata": {},
   "outputs": [],
   "source": [
    "# 연령대 및 장르별 평균 평점 계산\n",
    "genre_stats = merged_data.groupby(['Age', 'Genres'])['Rating'].mean().reset_index()\n",
    "\n",
    "# 연령대별 상위 5개 장르 선정\n",
    "top_genres = genre_stats.groupby('Age').apply(lambda x: x.nlargest(5, 'Rating')).reset_index(drop=True)\n",
    "\n",
    "# 상위 5개 장르 막대 그래프 시각화\n",
    "plt.figure(figsize=(12, 6))\n",
    "sns.barplot(x='Genres', y='Rating', hue='Age', data=top_genres)\n",
    "plt.title('연령대별 상위 5개 장르')\n",
    "plt.xlabel('장르')\n",
    "plt.ylabel('평균 평점')\n",
    "plt.show()\n",
    "\n",
    "# 장르 통계 출력\n",
    "print(\"연령대 및 장르별 평균 평점:\")\n",
    "display(genre_stats)"
   ]
  },
  {
   "cell_type": "markdown",
   "metadata": {},
   "source": [
    "### 5단계: 액티브 및 비활동적 사용자 분석\n",
    "사용자를 평점 수 기준으로 액티브(상위 10%)와 비활동적(하위 10%)으로 분류:\n",
    "- 사용자별 평점 수를 히스토그램으로 시각화.\n",
    "- 액티브 및 비활동적 사용자의 장르 선호도를 비교.  \n",
    "이 분석은 사용자 참여 유도 전략을 설계하는 데 활용됩니다."
   ]
  },
  {
   "cell_type": "code",
   "execution_count": null,
   "metadata": {},
   "outputs": [],
   "source": [
    "# 사용자별 평점 수 계산\n",
    "user_activity = ratings.groupby('UserID').size().reset_index(name='RatingCount')\n",
    "\n",
    "# 액티브(상위 10%) 및 비활동적(하위 10%) 사용자 정의\n",
    "thresholds = user_activity['RatingCount'].quantile([0.1, 0.9])\n",
    "active_users = user_activity[user_activity['RatingCount'] >= thresholds[0.9]]['UserID']\n",
    "inactive_users = user_activity[user_activity['RatingCount'] <= thresholds[0.1]]['UserID']\n",
    "\n",
    "# 평점 수 분포 히스토그램 시각화\n",
    "plt.figure(figsize=(10, 6))\n",
    "sns.histplot(user_activity['RatingCount'], bins=50)\n",
    "plt.title('사용자별 평점 수 분포')\n",
    "plt.xlabel('평점 수')\n",
    "plt.ylabel('빈도')\n",
    "plt.show()\n",
    "\n",
    "# 액티브 및 비활동적 사용자의 장르 선호도 비교\n",
    "active_data = merged_data[merged_data['UserID'].isin(active_users)]\n",
    "inactive_data = merged_data[merged_data['UserID'].isin(inactive_users)]\n",
    "\n",
    "active_genre = active_data.groupby('Genres')['Rating'].mean().reset_index(name='ActiveRating')\n",
    "inactive_genre = inactive_data.groupby('Genres')['Rating'].mean().reset_index(name='InactiveRating')\n",
    "\n",
    "# 장르 선호도 비교 결과 병합 및 출력\n",
    "genre_comparison = active_genre.merge(inactive_genre, on='Genres', how='outer')\n",
    "print(\"액티브 vs. 비활동적 사용자 장르 선호도 비교:\")\n",
    "display(genre_comparison)\n",
    "\n",
    "# 사용자 활동 통계 출력\n",
    "print(\"사용자 활동 통계 요약:\")\n",
    "display(user_activity.describe())"
   ]
  },
  {
   "cell_type": "markdown",
   "metadata": {},
   "source": [
    "### 6단계: CRM 전략 제안\n",
    "분석 결과를 바탕으로 영화제작사의 CRM 전략을 제안합니다:\n",
    "- **타겟 마케팅**: 젊은 남성(18-24세)에게 액션 영화 홍보.\n",
    "- **참여 유도**: 비활동적 사용자에게 개인화된 추천 제공.\n",
    "- **콘텐츠 전략**: 고연령층(50세 이상)을 위한 드라마 영화 제작 우선순위 설정.  \n",
    "이 전략은 관객 참여와 만족도를 높이는 데 기여합니다."
   ]
  },
  {
   "cell_type": "markdown",
   "metadata": {},
   "source": [
    "### 결론\n",
    "이 분석은 MovieLens 1M 데이터셋을 활용하여 사용자 인구통계, 장르 선호도, 활동 수준을 분석, 영화제작사의 CRM 전략을 지원합니다. 모든 요구사항(오류 없는 실행, Markdown 설명, 전략 제안)을 충족하며, 데이터 기반 인사이트를 제공합니다."
   ]
  },
  {
   "cell_type": "code",
   "execution_count": 16,
   "metadata": {},
   "outputs": [
    {
     "name": "stdout",
     "output_type": "stream",
     "text": [
      "\n",
      "환경 정보:\n",
      "Python 버전: 3.9.6 (default, Apr 30 2025, 02:07:17) \n",
      "[Clang 17.0.0 (clang-1700.0.13.5)]\n",
      "Pandas 버전: 2.2.3\n",
      "NumPy 버전: 1.26.4\n",
      "Matplotlib 버전: 3.9.4\n",
      "Seaborn 버전: 0.13.2\n"
     ]
    }
   ],
   "source": [
    "# 환경 정보 출력\n",
    "print(\"\\n환경 정보:\")\n",
    "print(f\"Python 버전: {sys.version}\")\n",
    "print(f\"Pandas 버전: {pd.__version__}\")\n",
    "print(f\"NumPy 버전: {np.__version__}\")\n",
    "print(f\"Matplotlib 버전: {plt.matplotlib.__version__}\")\n",
    "print(f\"Seaborn 버전: {sns.__version__}\")"
   ]
  }
 ],
 "metadata": {
  "kernelspec": {
   "display_name": "Python 3",
   "language": "python",
   "name": "python3"
  },
  "language_info": {
   "codemirror_mode": {
    "name": "ipython",
    "version": 3
   },
   "file_extension": ".py",
   "mimetype": "text/x-python",
   "name": "python",
   "nbconvert_exporter": "python",
   "pygments_lexer": "ipython3",
   "version": "3.9.6"
  }
 },
 "nbformat": 4,
 "nbformat_minor": 2
}
